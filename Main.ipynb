{
 "cells": [
  {
   "cell_type": "markdown",
   "metadata": {},
   "source": [
    "在这个project中，我的目的是\n",
    "1.  重温Python基础\n",
    "2.  学会基本的langchain应用搭法"
   ]
  },
  {
   "cell_type": "code",
   "execution_count": 1,
   "metadata": {},
   "outputs": [],
   "source": [
    "# declare requirements\n",
    "import os\n",
    "from langchain.agents import agent\n"
   ]
  },
  {
   "cell_type": "markdown",
   "metadata": {},
   "source": [
    "我们需要读取基本的环境变量，这里使用的是dotenv，他可以读取.env \n",
    "这个api咋用的？\n",
    "\n",
    "1. 创建.env文件，以key=value的形式输入variable\n",
    "2. dotenv.load_dotenv()读取"
   ]
  },
  {
   "cell_type": "code",
   "execution_count": 2,
   "metadata": {},
   "outputs": [
    {
     "name": "stdout",
     "output_type": "stream",
     "text": [
      "True\n",
      "True\n"
     ]
    }
   ],
   "source": [
    "# setup environment variables\n",
    "import dotenv\n",
    "print(dotenv.load_dotenv())\n",
    "print(os.path.exists('.env'))"
   ]
  },
  {
   "cell_type": "markdown",
   "metadata": {},
   "source": [
    "预先定义好函数作为agent的tool，\n",
    "一个"
   ]
  },
  {
   "cell_type": "code",
   "execution_count": 3,
   "metadata": {},
   "outputs": [],
   "source": [
    "from langchain.chains import ConversationChain\n",
    "from langchain.agents import ZeroShotAgent\n",
    "from langchain.chat_models import ChatOpenAI\n",
    "from langchain.agents import initialize_agent, Tool\n",
    "from langchain.agents.initialize import initialize_agent\n",
    "from langchain.agents.types import AgentType\n",
    "from langchain.prompts import ChatPromptTemplate\n",
    "# from openai "
   ]
  },
  {
   "cell_type": "code",
   "execution_count": 4,
   "metadata": {},
   "outputs": [],
   "source": [
    "llm = ChatOpenAI(temperature=0, model_name=\"gpt-3.5-turbo\")\n"
   ]
  },
  {
   "cell_type": "code",
   "execution_count": 5,
   "metadata": {},
   "outputs": [],
   "source": [
    "sampleAnswer = \"\""
   ]
  },
  {
   "cell_type": "code",
   "execution_count": 6,
   "metadata": {},
   "outputs": [],
   "source": [
    "# define tools\n",
    "def LoadRequirement():\n",
    "    # convert requirement to documentation\n",
    "    return\n",
    "\n",
    "def DocumentationToCode(In):\n",
    "    question = f\"I want to write a program, its documentation is {In}. Please write the python code for me\"\n",
    "    response = llm.invoke(question)\n",
    "    answer = response.content\n",
    "    return answer\n",
    "\n",
    "# 构建chatgpt的input和问出来\n",
    "def AskGpt(In):\n",
    "    question = f\"I have a program, its description is {In}. Please give me a code documentation of this program.\"\n",
    "    response = llm.invoke(question)\n",
    "    answer = response.content\n",
    "    return f\"documentation: \\n {answer}\"\n",
    "\n",
    "# 这里应该读取一个文件\n",
    "def LoadDescription(Destription):\n",
    "    with open('ProjectDescription.txt', 'rt') as file:\n",
    "        data = file.read()\n",
    "    return data"
   ]
  },
  {
   "cell_type": "markdown",
   "metadata": {},
   "source": [
    "这些agenttype代表什么\n",
    "异步answer能否接受"
   ]
  },
  {
   "cell_type": "code",
   "execution_count": 7,
   "metadata": {},
   "outputs": [],
   "source": [
    "# 按此种格式输入即可，需要记忆的最小单位暂定为api\n",
    "CustomTools = [\n",
    "    Tool(\n",
    "        name = \"Design to code documentation\",\n",
    "        description=\"input description in normal language, return as code documentation\",\n",
    "        func = AskGpt\n",
    "    ),\n",
    "    Tool(\n",
    "        name = \"Code documentation to python code\",\n",
    "        description=\"input code documentation1, return as code\",\n",
    "        func = DocumentationToCode\n",
    "    ),\n",
    "    Tool(\n",
    "        name = \"LoadDescription\",\n",
    "        description=\"return the design desciption as string\",\n",
    "        func = LoadDescription\n",
    "    )\n",
    "]\n",
    "# 这里有很多种chain他们的区别是什么\n",
    "EngineerAgent = initialize_agent(\n",
    "    agent=\"zero-shot-react-description\",llm=llm,tools=CustomTools,verbose=True,handle_parsing_errors=True)"
   ]
  },
  {
   "cell_type": "markdown",
   "metadata": {},
   "source": [
    "# 需求文档到程序文档\n",
    "这一步gpt应该可以自行完成，只需要一个qa型的agent\n",
    "conversational retrieval chain?\n",
    "这个应该是给定了一些文档的，不需要\n",
    "ConversationChain 就够了\n",
    "\n"
   ]
  },
  {
   "cell_type": "code",
   "execution_count": 8,
   "metadata": {},
   "outputs": [
    {
     "name": "stdout",
     "output_type": "stream",
     "text": [
      "\n",
      "\n",
      "\u001b[1m> Entering new AgentExecutor chain...\u001b[0m\n",
      "\u001b[32;1m\u001b[1;3mI need to load the design description first in order to get the code documentation and code.\n",
      "Action: LoadDescription\n",
      "Action Input: None\u001b[0m\n",
      "Observation: \u001b[38;5;200m\u001b[1;3ma date calculator, which can take a number as input representing the days ahead of today and ouput the date of that day.\u001b[0m\n",
      "Thought:\u001b[32;1m\u001b[1;3mNow that I have loaded the design description, I can proceed to get the code documentation and code.\n",
      "Action: Design to code documentation\n",
      "Action Input: \"a date calculator, which can take a number as input representing the days ahead of today and ouput the date of that day.\"\u001b[0m\n",
      "Observation: \u001b[36;1m\u001b[1;3mdocumentation: \n",
      " Code Documentation: Date Calculator\n",
      "\n",
      "1. Introduction:\n",
      "   The Date Calculator program is designed to calculate the date that is a certain number of days ahead of the current date. It takes an input representing the number of days and outputs the corresponding date.\n",
      "\n",
      "2. Usage:\n",
      "   The program can be used by calling the main function and providing the number of days as input. The program will then calculate and display the date that is the specified number of days ahead of today.\n",
      "\n",
      "3. Functions:\n",
      "   a. main():\n",
      "      - The main function is the entry point of the program.\n",
      "      - It prompts the user to enter the number of days.\n",
      "      - It calls the calculate_date() function with the user input as an argument.\n",
      "      - It displays the calculated date.\n",
      "\n",
      "   b. calculate_date(days):\n",
      "      - The calculate_date function takes the number of days as input.\n",
      "      - It uses the datetime module to get the current date.\n",
      "      - It adds the specified number of days to the current date using timedelta.\n",
      "      - It returns the calculated date.\n",
      "\n",
      "4. Example Code:\n",
      "\n",
      "```python\n",
      "import datetime\n",
      "\n",
      "def calculate_date(days):\n",
      "    current_date = datetime.date.today()\n",
      "    future_date = current_date + datetime.timedelta(days=days)\n",
      "    return future_date\n",
      "\n",
      "def main():\n",
      "    days = int(input(\"Enter the number of days ahead: \"))\n",
      "    future_date = calculate_date(days)\n",
      "    print(\"The date\", days, \"days ahead is:\", future_date)\n",
      "\n",
      "if __name__ == \"__main__\":\n",
      "    main()\n",
      "```\n",
      "\n",
      "5. Example Output:\n",
      "   Enter the number of days ahead: 10\n",
      "   The date 10 days ahead is: 2022-01-20\n",
      "\n",
      "6. Dependencies:\n",
      "   The program requires the datetime module, which is a standard library in Python. No additional dependencies are needed.\n",
      "\n",
      "7. Error Handling:\n",
      "   - The program expects the user to enter a valid integer for the number of days. If the user enters an invalid input (e.g., a non-integer or negative number), a ValueError will be raised.\n",
      "   - The program does not handle any other exceptions or errors explicitly.\u001b[0m\n",
      "Thought:\u001b[32;1m\u001b[1;3mI have obtained the code documentation and code for the date calculator program.\n",
      "Action: Code documentation to python code\n",
      "Action Input: Code documentation for the date calculator program\u001b[0m\n",
      "Observation: \u001b[33;1m\u001b[1;3mCertainly! Here's an example of a Python code for a date calculator program along with its documentation:\n",
      "\n",
      "```python\n",
      "import datetime\n",
      "\n",
      "def add_days(date, days):\n",
      "    \"\"\"\n",
      "    Adds the specified number of days to the given date.\n",
      "\n",
      "    Args:\n",
      "        date (datetime.date): The date to which days need to be added.\n",
      "        days (int): The number of days to add.\n",
      "\n",
      "    Returns:\n",
      "        datetime.date: The resulting date after adding the specified number of days.\n",
      "    \"\"\"\n",
      "    new_date = date + datetime.timedelta(days=days)\n",
      "    return new_date\n",
      "\n",
      "def subtract_days(date, days):\n",
      "    \"\"\"\n",
      "    Subtracts the specified number of days from the given date.\n",
      "\n",
      "    Args:\n",
      "        date (datetime.date): The date from which days need to be subtracted.\n",
      "        days (int): The number of days to subtract.\n",
      "\n",
      "    Returns:\n",
      "        datetime.date: The resulting date after subtracting the specified number of days.\n",
      "    \"\"\"\n",
      "    new_date = date - datetime.timedelta(days=days)\n",
      "    return new_date\n",
      "\n",
      "def main():\n",
      "    \"\"\"\n",
      "    Main function to execute the date calculator program.\n",
      "    \"\"\"\n",
      "    # Get user input for the date\n",
      "    year = int(input(\"Enter the year: \"))\n",
      "    month = int(input(\"Enter the month: \"))\n",
      "    day = int(input(\"Enter the day: \"))\n",
      "\n",
      "    # Create a datetime object for the input date\n",
      "    date = datetime.date(year, month, day)\n",
      "\n",
      "    # Get user input for the number of days to add/subtract\n",
      "    num_days = int(input(\"Enter the number of days to add/subtract: \"))\n",
      "\n",
      "    # Add days to the date\n",
      "    new_date = add_days(date, num_days)\n",
      "    print(\"New date after adding days:\", new_date)\n",
      "\n",
      "    # Subtract days from the date\n",
      "    new_date = subtract_days(date, num_days)\n",
      "    print(\"New date after subtracting days:\", new_date)\n",
      "\n",
      "if __name__ == \"__main__\":\n",
      "    main()\n",
      "```\n",
      "\n",
      "This code includes two functions: `add_days` and `subtract_days`, which add and subtract the specified number of days from a given date, respectively. The `main` function is responsible for taking user input for the date and the number of days, and then calling the appropriate functions to perform the calculations.\u001b[0m\n",
      "Thought:\u001b[32;1m\u001b[1;3mI have successfully converted the code documentation into Python code for the date calculator program.\n",
      "Final Answer: Here is the Python code for the date calculator program:\n",
      "\n",
      "```python\n",
      "import datetime\n",
      "\n",
      "def add_days(date, days):\n",
      "    \"\"\"\n",
      "    Adds the specified number of days to the given date.\n",
      "\n",
      "    Args:\n",
      "        date (datetime.date): The date to which days need to be added.\n",
      "        days (int): The number of days to add.\n",
      "\n",
      "    Returns:\n",
      "        datetime.date: The resulting date after adding the specified number of days.\n",
      "    \"\"\"\n",
      "    new_date = date + datetime.timedelta(days=days)\n",
      "    return new_date\n",
      "\n",
      "def subtract_days(date, days):\n",
      "    \"\"\"\n",
      "    Subtracts the specified number of days from the given date.\n",
      "\n",
      "    Args:\n",
      "        date (datetime.date): The date from which days need to be subtracted.\n",
      "        days (int): The number of days to subtract.\n",
      "\n",
      "    Returns:\n",
      "        datetime.date: The resulting date after subtracting the specified number of days.\n",
      "    \"\"\"\n",
      "    new_date = date - datetime.timedelta(days=days)\n",
      "    return new_date\n",
      "\n",
      "def main():\n",
      "    \"\"\"\n",
      "    Main function to execute the date calculator program.\n",
      "    \"\"\"\n",
      "    # Get user input for the date\n",
      "    year = int(input(\"Enter the year: \"))\n",
      "    month = int(input(\"Enter the month: \"))\n",
      "    day = int(input(\"Enter the day: \"))\n",
      "\n",
      "    # Create a datetime object for the input date\n",
      "    date = datetime.date(year, month, day)\n",
      "\n",
      "    # Get user input for the number of days to add/subtract\n",
      "    num_days = int(input(\"Enter the number of days to add/subtract: \"))\n",
      "\n",
      "    # Add days to the date\n",
      "    new_date = add_days(date, num_days)\n",
      "    print(\"New date after adding days:\", new_date)\n",
      "\n",
      "    # Subtract days from the date\n",
      "    new_date = subtract_days(date, num_days)\n",
      "    print(\"New date after subtracting days:\", new_date)\n",
      "\n",
      "if __name__ == \"__main__\":\n",
      "    main()\n",
      "```\u001b[0m\n",
      "\n",
      "\u001b[1m> Finished chain.\u001b[0m\n"
     ]
    },
    {
     "data": {
      "text/plain": [
       "'Here is the Python code for the date calculator program:\\n\\n```python\\nimport datetime\\n\\ndef add_days(date, days):\\n    \"\"\"\\n    Adds the specified number of days to the given date.\\n\\n    Args:\\n        date (datetime.date): The date to which days need to be added.\\n        days (int): The number of days to add.\\n\\n    Returns:\\n        datetime.date: The resulting date after adding the specified number of days.\\n    \"\"\"\\n    new_date = date + datetime.timedelta(days=days)\\n    return new_date\\n\\ndef subtract_days(date, days):\\n    \"\"\"\\n    Subtracts the specified number of days from the given date.\\n\\n    Args:\\n        date (datetime.date): The date from which days need to be subtracted.\\n        days (int): The number of days to subtract.\\n\\n    Returns:\\n        datetime.date: The resulting date after subtracting the specified number of days.\\n    \"\"\"\\n    new_date = date - datetime.timedelta(days=days)\\n    return new_date\\n\\ndef main():\\n    \"\"\"\\n    Main function to execute the date calculator program.\\n    \"\"\"\\n    # Get user input for the date\\n    year = int(input(\"Enter the year: \"))\\n    month = int(input(\"Enter the month: \"))\\n    day = int(input(\"Enter the day: \"))\\n\\n    # Create a datetime object for the input date\\n    date = datetime.date(year, month, day)\\n\\n    # Get user input for the number of days to add/subtract\\n    num_days = int(input(\"Enter the number of days to add/subtract: \"))\\n\\n    # Add days to the date\\n    new_date = add_days(date, num_days)\\n    print(\"New date after adding days:\", new_date)\\n\\n    # Subtract days from the date\\n    new_date = subtract_days(date, num_days)\\n    print(\"New date after subtracting days:\", new_date)\\n\\nif __name__ == \"__main__\":\\n    main()\\n```'"
      ]
     },
     "execution_count": 8,
     "metadata": {},
     "output_type": "execute_result"
    }
   ],
   "source": [
    "EngineerAgent.run(\"load description, get the code documentation and code for me\")"
   ]
  },
  {
   "cell_type": "markdown",
   "metadata": {},
   "source": [
    "试试效果\n",
    "耗费$0.01"
   ]
  },
  {
   "cell_type": "code",
   "execution_count": 9,
   "metadata": {},
   "outputs": [],
   "source": [
    "import datetime\n",
    "\n",
    "def add_days(date, days):\n",
    "    \"\"\"\n",
    "    Adds the specified number of days to the given date.\n",
    "\n",
    "    Args:\n",
    "        date (datetime.date): The date to which days need to be added.\n",
    "        days (int): The number of days to add.\n",
    "\n",
    "    Returns:\n",
    "        datetime.date: The resulting date after adding the specified number of days.\n",
    "    \"\"\"\n",
    "    new_date = date + datetime.timedelta(days=days)\n",
    "    return new_date\n",
    "\n",
    "def subtract_days(date, days):\n",
    "    \"\"\"\n",
    "    Subtracts the specified number of days from the given date.\n",
    "\n",
    "    Args:\n",
    "        date (datetime.date): The date from which days need to be subtracted.\n",
    "        days (int): The number of days to subtract.\n",
    "\n",
    "    Returns:\n",
    "        datetime.date: The resulting date after subtracting the specified number of days.\n",
    "    \"\"\"\n",
    "    new_date = date - datetime.timedelta(days=days)\n",
    "    return new_date\n",
    "\n",
    "def main():\n",
    "    \"\"\"\n",
    "    Main function to execute the date calculator program.\n",
    "    \"\"\"\n",
    "    # Get user input for the date\n",
    "    year = int(input(\"Enter the year: \"))\n",
    "    month = int(input(\"Enter the month: \"))\n",
    "    day = int(input(\"Enter the day: \"))\n",
    "\n",
    "    # Create a datetime object for the input date\n",
    "    date = datetime.date(year, month, day)\n",
    "\n",
    "    # Get user input for the number of days to add/subtract\n",
    "    num_days = int(input(\"Enter the number of days to add/subtract: \"))\n",
    "\n",
    "    # Add days to the date\n",
    "    new_date = add_days(date, num_days)\n",
    "    print(\"New date after adding days:\", new_date)\n",
    "\n",
    "    # Subtract days from the date\n",
    "    new_date = subtract_days(date, num_days)\n",
    "    print(\"New date after subtracting days:\", new_date)\n"
   ]
  },
  {
   "cell_type": "code",
   "execution_count": 10,
   "metadata": {},
   "outputs": [
    {
     "ename": "ValueError",
     "evalue": "invalid literal for int() with base 10: ''",
     "output_type": "error",
     "traceback": [
      "\u001b[1;31m---------------------------------------------------------------------------\u001b[0m",
      "\u001b[1;31mValueError\u001b[0m                                Traceback (most recent call last)",
      "Cell \u001b[1;32mIn[10], line 1\u001b[0m\n\u001b[1;32m----> 1\u001b[0m \u001b[43mmain\u001b[49m\u001b[43m(\u001b[49m\u001b[43m)\u001b[49m\n",
      "Cell \u001b[1;32mIn[9], line 36\u001b[0m, in \u001b[0;36mmain\u001b[1;34m()\u001b[0m\n\u001b[0;32m     32\u001b[0m \u001b[38;5;250m\u001b[39m\u001b[38;5;124;03m\"\"\"\u001b[39;00m\n\u001b[0;32m     33\u001b[0m \u001b[38;5;124;03mMain function to execute the date calculator program.\u001b[39;00m\n\u001b[0;32m     34\u001b[0m \u001b[38;5;124;03m\"\"\"\u001b[39;00m\n\u001b[0;32m     35\u001b[0m \u001b[38;5;66;03m# Get user input for the date\u001b[39;00m\n\u001b[1;32m---> 36\u001b[0m year \u001b[38;5;241m=\u001b[39m \u001b[38;5;28;43mint\u001b[39;49m\u001b[43m(\u001b[49m\u001b[38;5;28;43minput\u001b[39;49m\u001b[43m(\u001b[49m\u001b[38;5;124;43m\"\u001b[39;49m\u001b[38;5;124;43mEnter the year: \u001b[39;49m\u001b[38;5;124;43m\"\u001b[39;49m\u001b[43m)\u001b[49m\u001b[43m)\u001b[49m\n\u001b[0;32m     37\u001b[0m month \u001b[38;5;241m=\u001b[39m \u001b[38;5;28mint\u001b[39m(\u001b[38;5;28minput\u001b[39m(\u001b[38;5;124m\"\u001b[39m\u001b[38;5;124mEnter the month: \u001b[39m\u001b[38;5;124m\"\u001b[39m))\n\u001b[0;32m     38\u001b[0m day \u001b[38;5;241m=\u001b[39m \u001b[38;5;28mint\u001b[39m(\u001b[38;5;28minput\u001b[39m(\u001b[38;5;124m\"\u001b[39m\u001b[38;5;124mEnter the day: \u001b[39m\u001b[38;5;124m\"\u001b[39m))\n",
      "\u001b[1;31mValueError\u001b[0m: invalid literal for int() with base 10: ''"
     ]
    }
   ],
   "source": [
    "main()\n"
   ]
  },
  {
   "cell_type": "markdown",
   "metadata": {},
   "source": [
    "Further thought\n",
    "\n",
    "Code intepreter咋用\n",
    "\n",
    "裸openai api咋实现\n",
    "\n",
    "哪些api可以换\n",
    "\n",
    "怎么实现的"
   ]
  }
 ],
 "metadata": {
  "kernelspec": {
   "display_name": "Python 3",
   "language": "python",
   "name": "python3"
  },
  "language_info": {
   "codemirror_mode": {
    "name": "ipython",
    "version": 3
   },
   "file_extension": ".py",
   "mimetype": "text/x-python",
   "name": "python",
   "nbconvert_exporter": "python",
   "pygments_lexer": "ipython3",
   "version": "3.11.4"
  }
 },
 "nbformat": 4,
 "nbformat_minor": 2
}
