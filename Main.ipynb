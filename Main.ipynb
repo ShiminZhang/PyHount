{
 "cells": [
  {
   "cell_type": "code",
   "execution_count": 7,
   "metadata": {},
   "outputs": [],
   "source": [
    "# declare requirements\n",
    "import os\n",
    "from langchain.agents import agent\n"
   ]
  },
  {
   "cell_type": "code",
   "execution_count": 8,
   "metadata": {},
   "outputs": [
    {
     "name": "stdout",
     "output_type": "stream",
     "text": [
      "True\n",
      "True\n"
     ]
    }
   ],
   "source": [
    "# setup environment variables\n",
    "import dotenv\n",
    "print(dotenv.load_dotenv())\n",
    "print(os.path.exists('.env'))"
   ]
  },
  {
   "cell_type": "code",
   "execution_count": 9,
   "metadata": {},
   "outputs": [],
   "source": [
    "# define tools\n",
    "def LoadRequirement():\n",
    "    # convert requirement to documentation\n",
    "    return\n",
    "\n",
    "def DocumentationToCode(In):\n",
    "    return\n",
    "\n",
    "def AskGpt(In):\n",
    "    return \"hello hello\"\n",
    "\n",
    "def LoadDescription(Destription):\n",
    "    return \"I want a bug, a big juicy one\""
   ]
  },
  {
   "cell_type": "markdown",
   "metadata": {},
   "source": [
    "# 需求文档到程序文档\n",
    "这一步gpt应该可以自行完成，只需要一个qa型的agent\n",
    "conversational retrieval chain?\n",
    "这个应该是给定了一些文档的，不需要\n",
    "ConversationChain 就够了\n",
    "\n"
   ]
  },
  {
   "cell_type": "code",
   "execution_count": 10,
   "metadata": {},
   "outputs": [],
   "source": [
    "# load document"
   ]
  },
  {
   "cell_type": "code",
   "execution_count": 11,
   "metadata": {},
   "outputs": [],
   "source": [
    "from langchain.chains import ConversationChain\n",
    "from langchain.agents import ZeroShotAgent\n",
    "from langchain.chat_models import ChatOpenAI\n",
    "from langchain.agents import initialize_agent, Tool\n",
    "from langchain.agents.initialize import initialize_agent\n",
    "from langchain.agents.types import AgentType\n",
    "\n",
    "llm = ChatOpenAI(temperature=0)\n",
    "ArchitectTools = [\n",
    "    Tool(\n",
    "        name = \"Design to code documentation\",\n",
    "        description=\"input description in normal language, return as code documentation\",\n",
    "        func = AskGpt\n",
    "    ),\n",
    "    Tool(\n",
    "        name = \"LoadDescription\",\n",
    "        description=\"return the design desciption as string\",\n",
    "        func = LoadDescription\n",
    "    )\n",
    "]\n",
    "Architect = initialize_agent(agent=AgentType.ZERO_SHOT_REACT_DESCRIPTION,llm=llm, tools=ArchitectTools)"
   ]
  },
  {
   "cell_type": "code",
   "execution_count": 12,
   "metadata": {},
   "outputs": [
    {
     "name": "stdout",
     "output_type": "stream",
     "text": [
      "The code documentation for the loaded design description is \"hello hello\".\n"
     ]
    }
   ],
   "source": [
    "print(Architect.run(\"load description and give me code documentation of it\"))"
   ]
  }
 ],
 "metadata": {
  "kernelspec": {
   "display_name": "Python 3",
   "language": "python",
   "name": "python3"
  },
  "language_info": {
   "codemirror_mode": {
    "name": "ipython",
    "version": 3
   },
   "file_extension": ".py",
   "mimetype": "text/x-python",
   "name": "python",
   "nbconvert_exporter": "python",
   "pygments_lexer": "ipython3",
   "version": "3.9.6"
  }
 },
 "nbformat": 4,
 "nbformat_minor": 2
}
